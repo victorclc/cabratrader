{
 "cells": [
  {
   "cell_type": "code",
   "execution_count": 6,
   "metadata": {
    "collapsed": true
   },
   "outputs": [],
   "source": [
    "from matplotlib import pyplot as plt\n",
    "from database.datamanager import DataManager"
   ]
  },
  {
   "cell_type": "code",
   "execution_count": 7,
   "metadata": {},
   "outputs": [],
   "source": [
    "symbol = 'ETHBTC'\n",
    "\n",
    "query = 'SELECT * FROM cabratrader.public.c_analysis ' \\\n",
    "        'WHERE run_id=(SELECT run_id from c_run order by run_id desc limit 1) AND symbol=\\'{}\\''.format(symbol)\n",
    "\n",
    "res = DataManager.execute_query(query)"
   ]
  },
  {
   "cell_type": "code",
   "execution_count": 8,
   "metadata": {},
   "outputs": [],
   "source": [
    "price = [d['price'] for d in res]\n",
    "time = [d['ref_date'] for d in res]\n",
    "orders = [d['order_id'] for d in res if d['order_id']]\n",
    "\n",
    "txt = ''\n",
    "for order in orders:\n",
    "    txt += '{},'.format(order)\n",
    "else:\n",
    "    txt = txt[:-1]\n",
    "\n",
    "query = 'SELECT type, avg_price, ref_date from c_order where exec_amount > 0 and order_id in ({})'.format(txt)\n",
    "results = DataManager.execute_query(query)\n",
    "\n",
    "buy_price = []\n",
    "buy_time = []\n",
    "sell_price = []\n",
    "sell_time = []\n",
    "\n",
    "for result in results:\n",
    "    if result['type'] == 'BUY':\n",
    "        buy_price.append(result['avg_price'])\n",
    "        buy_time.append(result['ref_date'])\n",
    "    else:\n",
    "        sell_price.append(result['avg_price'])\n",
    "        sell_time.append(result['ref_date'])\n"
   ]
  },
  {
   "cell_type": "code",
   "execution_count": 9,
   "metadata": {},
   "outputs": [],
   "source": [
    "plt.plot(time, price)\n",
    "plt.plot(buy_time, buy_price, '^', markersize=5)\n",
    "plt.plot(sell_time, sell_price, 'v',  markersize=5)\n",
    "plt.show()"
   ]
  },
  {
   "cell_type": "code",
   "execution_count": null,
   "metadata": {},
   "outputs": [],
   "source": []
  }
 ],
 "metadata": {
  "kernelspec": {
   "display_name": "Python 2",
   "language": "python",
   "name": "python2"
  },
  "language_info": {
   "codemirror_mode": {
    "name": "ipython",
    "version": 2
   },
   "file_extension": ".py",
   "mimetype": "text/x-python",
   "name": "python",
   "nbconvert_exporter": "python",
   "pygments_lexer": "ipython2",
   "version": "2.7.6"
  }
 },
 "nbformat": 4,
 "nbformat_minor": 0
}
