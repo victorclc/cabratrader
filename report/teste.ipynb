{
 "cells": [
  {
   "cell_type": "code",
   "execution_count": 12,
   "metadata": {
    "collapsed": true
   },
   "outputs": [],
   "source": [
    "from matplotlib import pyplot as plt\n",
    "from database.datamanager import DataManager\n",
    "\n",
    "symbol = 'ETHBTC'\n",
    "\n",
    "query = 'SELECT * FROM cabratrader.public.c_analysis ' \\\n",
    "        'WHERE run_id=(SELECT run_id from c_run order by run_id desc limit 1) AND symbol=\\'{}\\''.format(symbol)\n",
    "\n",
    "res = DataManager.execute_query(query)\n",
    "\n",
    "price = [d['price'] for d in res]\n",
    "time = [d['ref_date'] for d in res]\n",
    "\n",
    "plt.plot(time, price)\n",
    "plt.show()\n"
   ]
  },
  {
   "cell_type": "code",
   "execution_count": 9,
   "metadata": {},
   "outputs": [],
   "source": []
  },
  {
   "cell_type": "code",
   "execution_count": null,
   "metadata": {},
   "outputs": [],
   "source": []
  }
 ],
 "metadata": {
  "kernelspec": {
   "display_name": "Python 2",
   "language": "python",
   "name": "python2"
  },
  "language_info": {
   "codemirror_mode": {
    "name": "ipython",
    "version": 2
   },
   "file_extension": ".py",
   "mimetype": "text/x-python",
   "name": "python",
   "nbconvert_exporter": "python",
   "pygments_lexer": "ipython2",
   "version": "2.7.6"
  }
 },
 "nbformat": 4,
 "nbformat_minor": 0
}
